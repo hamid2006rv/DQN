{
 "cells": [
  {
   "cell_type": "code",
   "execution_count": 1,
   "metadata": {},
   "outputs": [],
   "source": [
    "import numpy as np\n",
    "import math\n",
    "import random\n",
    "import os\n",
    "import pybullet as p\n",
    "import pybullet_data\n",
    "import gym\n",
    "from gym import error, spaces, utils\n",
    "from gym.utils import seeding\n",
    "import matplotlib.pyplot as plt\n",
    "import time\n",
    "\n",
    "from math import sqrt\n",
    "from skimage.feature import blob_dog, blob_log, blob_doh"
   ]
  },
  {
   "cell_type": "code",
   "execution_count": 2,
   "metadata": {
    "scrolled": true
   },
   "outputs": [
    {
     "name": "stderr",
     "output_type": "stream",
     "text": [
      "C:\\Users\\SERVER\\Anaconda3\\lib\\site-packages\\h5py\\__init__.py:36: FutureWarning: Conversion of the second argument of issubdtype from `float` to `np.floating` is deprecated. In future, it will be treated as `np.float64 == np.dtype(float).type`.\n",
      "  from ._conv import register_converters as _register_converters\n",
      "Using TensorFlow backend.\n",
      "C:\\Users\\SERVER\\Anaconda3\\lib\\site-packages\\tensorflow\\python\\framework\\dtypes.py:516: FutureWarning: Passing (type, 1) or '1type' as a synonym of type is deprecated; in a future version of numpy, it will be understood as (type, (1,)) / '(1,)type'.\n",
      "  _np_qint8 = np.dtype([(\"qint8\", np.int8, 1)])\n",
      "C:\\Users\\SERVER\\Anaconda3\\lib\\site-packages\\tensorflow\\python\\framework\\dtypes.py:517: FutureWarning: Passing (type, 1) or '1type' as a synonym of type is deprecated; in a future version of numpy, it will be understood as (type, (1,)) / '(1,)type'.\n",
      "  _np_quint8 = np.dtype([(\"quint8\", np.uint8, 1)])\n",
      "C:\\Users\\SERVER\\Anaconda3\\lib\\site-packages\\tensorflow\\python\\framework\\dtypes.py:518: FutureWarning: Passing (type, 1) or '1type' as a synonym of type is deprecated; in a future version of numpy, it will be understood as (type, (1,)) / '(1,)type'.\n",
      "  _np_qint16 = np.dtype([(\"qint16\", np.int16, 1)])\n",
      "C:\\Users\\SERVER\\Anaconda3\\lib\\site-packages\\tensorflow\\python\\framework\\dtypes.py:519: FutureWarning: Passing (type, 1) or '1type' as a synonym of type is deprecated; in a future version of numpy, it will be understood as (type, (1,)) / '(1,)type'.\n",
      "  _np_quint16 = np.dtype([(\"quint16\", np.uint16, 1)])\n",
      "C:\\Users\\SERVER\\Anaconda3\\lib\\site-packages\\tensorflow\\python\\framework\\dtypes.py:520: FutureWarning: Passing (type, 1) or '1type' as a synonym of type is deprecated; in a future version of numpy, it will be understood as (type, (1,)) / '(1,)type'.\n",
      "  _np_qint32 = np.dtype([(\"qint32\", np.int32, 1)])\n",
      "C:\\Users\\SERVER\\Anaconda3\\lib\\site-packages\\tensorflow\\python\\framework\\dtypes.py:525: FutureWarning: Passing (type, 1) or '1type' as a synonym of type is deprecated; in a future version of numpy, it will be understood as (type, (1,)) / '(1,)type'.\n",
      "  np_resource = np.dtype([(\"resource\", np.ubyte, 1)])\n",
      "C:\\Users\\SERVER\\Anaconda3\\lib\\site-packages\\tensorboard\\compat\\tensorflow_stub\\dtypes.py:541: FutureWarning: Passing (type, 1) or '1type' as a synonym of type is deprecated; in a future version of numpy, it will be understood as (type, (1,)) / '(1,)type'.\n",
      "  _np_qint8 = np.dtype([(\"qint8\", np.int8, 1)])\n",
      "C:\\Users\\SERVER\\Anaconda3\\lib\\site-packages\\tensorboard\\compat\\tensorflow_stub\\dtypes.py:542: FutureWarning: Passing (type, 1) or '1type' as a synonym of type is deprecated; in a future version of numpy, it will be understood as (type, (1,)) / '(1,)type'.\n",
      "  _np_quint8 = np.dtype([(\"quint8\", np.uint8, 1)])\n",
      "C:\\Users\\SERVER\\Anaconda3\\lib\\site-packages\\tensorboard\\compat\\tensorflow_stub\\dtypes.py:543: FutureWarning: Passing (type, 1) or '1type' as a synonym of type is deprecated; in a future version of numpy, it will be understood as (type, (1,)) / '(1,)type'.\n",
      "  _np_qint16 = np.dtype([(\"qint16\", np.int16, 1)])\n",
      "C:\\Users\\SERVER\\Anaconda3\\lib\\site-packages\\tensorboard\\compat\\tensorflow_stub\\dtypes.py:544: FutureWarning: Passing (type, 1) or '1type' as a synonym of type is deprecated; in a future version of numpy, it will be understood as (type, (1,)) / '(1,)type'.\n",
      "  _np_quint16 = np.dtype([(\"quint16\", np.uint16, 1)])\n",
      "C:\\Users\\SERVER\\Anaconda3\\lib\\site-packages\\tensorboard\\compat\\tensorflow_stub\\dtypes.py:545: FutureWarning: Passing (type, 1) or '1type' as a synonym of type is deprecated; in a future version of numpy, it will be understood as (type, (1,)) / '(1,)type'.\n",
      "  _np_qint32 = np.dtype([(\"qint32\", np.int32, 1)])\n",
      "C:\\Users\\SERVER\\Anaconda3\\lib\\site-packages\\tensorboard\\compat\\tensorflow_stub\\dtypes.py:550: FutureWarning: Passing (type, 1) or '1type' as a synonym of type is deprecated; in a future version of numpy, it will be understood as (type, (1,)) / '(1,)type'.\n",
      "  np_resource = np.dtype([(\"resource\", np.ubyte, 1)])\n"
     ]
    }
   ],
   "source": [
    "from keras.models import Sequential, Model\n",
    "from keras.layers import Dense, Activation, Flatten, Input, Dropout, concatenate\n",
    "from keras.layers import Concatenate,Conv2D,BatchNormalization,MaxPooling2D\n",
    "from keras.optimizers import Adam\n",
    "from keras import initializers"
   ]
  },
  {
   "cell_type": "code",
   "execution_count": 3,
   "metadata": {},
   "outputs": [],
   "source": [
    "from rl.agents.dqn import DQNAgent\n",
    "from rl.policy import BoltzmannQPolicy\n",
    "from rl.memory import  SequentialMemory\n",
    "from rl.processors import Processor\n",
    "from rl.callbacks import Callback"
   ]
  },
  {
   "cell_type": "code",
   "execution_count": 4,
   "metadata": {},
   "outputs": [],
   "source": [
    "class BikeEnv(gym.Env):\n",
    "    \n",
    "    def __init__(self):\n",
    "        p.connect(p.GUI)\n",
    "        p.setRealTimeSimulation(1)\n",
    "        p.resetDebugVisualizerCamera(cameraDistance=10, cameraYaw=0, cameraPitch=-40, cameraTargetPosition=[0.55,-0.35,0.2])\n",
    "        self.action_space = spaces.Discrete(6)\n",
    "        self.observation_space = spaces.Dict({\n",
    "            'sensor' : spaces.Box(np.array([-1000]*10), np.array([1000]*10)),\n",
    "            'image'  : spaces.Box(low=0, high=1, shape=(64, 64))\n",
    "        }) \n",
    "        \n",
    "        self.timestep = 1./240.\n",
    "        self.stp = 0\n",
    "        \n",
    "    def step(self, action):\n",
    "        #print(\"i=%d\" % self.stp)\n",
    "        self.stp+=1\n",
    "        #print(\"time = \" , time.time()-self.time)\n",
    "     \n",
    "        if (action == 0):\n",
    "            self.speed = self.speed + 1\n",
    "        if (action == 1):\n",
    "            self.speed = self.speed - 1 \n",
    "        if (action == 2):\n",
    "            self.speed = self.speed  \n",
    "        if (action == 3):\n",
    "            self.steer = self.steer - 1 \n",
    "        if (action == 4):\n",
    "            self.steer = self.steer + 1\n",
    "        if (action == 5):\n",
    "            self.steer = self.steer \n",
    "            \n",
    "              \n",
    "        self.applyAction([self.speed,self.steer])\n",
    "\n",
    "        #p.setRealTimeSimulation(1)\n",
    "        time.sleep(0.5)\n",
    "        #p.setRealTimeSimulation(0)\n",
    "        \n",
    "        state = p.getLinkState(self.pid,0)[0]\n",
    "        if state[2] <= 0.5 or  state[2] >= 2 or abs(self.speed)>2 or abs(self.steer)>4:\n",
    "            reward = -100\n",
    "            done = True\n",
    "        else :\n",
    "            #reward = math.sqrt((self.origin[0]-state[0])**2+(self.origin[1]-state[1])**2)\n",
    "            reward = state[0] - self.origin[0]\n",
    "            #reward = 1\n",
    "            done = False\n",
    "        self.origin = state \n",
    "        \n",
    "        velocity = p.getBaseVelocity(self.pid)\n",
    "        img = self.getImage()\n",
    "        observation = {'sensor':list(self.getObservation()) + list(velocity[0])+list(velocity[1]),\n",
    "                       'image': img}\n",
    "        \n",
    "        info = {'x':'','y':'','z':''}\n",
    "        #print(\"Step: \",self.stp)\n",
    "        #xx = time.time()\n",
    "        #print(\"Time: \",xx-self.tttt)\n",
    "        #self.tttt = xx\n",
    "        #print(\"Action: \",action)\n",
    "        #print(\"Reward: \",reward)\n",
    "        #self.stp +=1\n",
    "        return observation, reward, done, info\n",
    "            \n",
    "    def applyAction(self, motorCommands):\n",
    "        targetVelocity = motorCommands[0] * self.speedMultiplier\n",
    "        #print(\"targetVelocity\")\n",
    "        #print(targetVelocity)\n",
    "        steeringAngle = motorCommands[1] * self.steeringMultiplier\n",
    "        #print(\"steeringAngle\")\n",
    "        #print(steeringAngle)\n",
    "\n",
    "\n",
    "        for motor in self.motorizedwheels:\n",
    "            p.setJointMotorControl2(self.pid,\n",
    "                                    motor,\n",
    "                                    p.VELOCITY_CONTROL,\n",
    "                                    targetVelocity=targetVelocity,\n",
    "                                    force=self.maxForce)\n",
    "        for steer in self.steeringLinks:\n",
    "            p.setJointMotorControl2(self.pid,\n",
    "                                    steer,\n",
    "                                    p.POSITION_CONTROL,\n",
    "                                    targetPosition=steeringAngle)\n",
    "\n",
    "    def reset(self):\n",
    "        #print(\"Reset\")\n",
    "        #print(\"setp:\",self.stp)\n",
    "        self.stp = 0\n",
    "\n",
    "        p.resetSimulation()\n",
    "\n",
    "        urdfRootPath = pybullet_data.getDataPath()\n",
    "        planeUid = p.loadURDF(os.path.join(urdfRootPath,\"plane.urdf\"), basePosition=[0,0,0])\n",
    "        \n",
    "        \n",
    "        for i in range(np.random.randint(1,10)):\n",
    "            p.loadURDF(os.path.join(urdfRootPath, \"sphere2.urdf\"),basePosition=[\n",
    "                np.random.randint(5,15),\n",
    "                np.random.randint(-2,2),\n",
    "               0.5\n",
    "           ])\n",
    "     \n",
    "        self.pid = p.loadURDF(os.path.join(urdfRootPath, \"bicycle/bike.urdf\"),basePosition=[0,0,1])     \n",
    "           \n",
    "        \n",
    "        self.origin = p.getLinkState(self.pid,0)[0]\n",
    "        p.setGravity(0,0,-10)\n",
    "        for wheel in range(p.getNumJoints(self.pid)):\n",
    "            p.setJointMotorControl2(self.pid,\n",
    "                                    wheel,\n",
    "                                    p.VELOCITY_CONTROL,\n",
    "                                    targetVelocity=0,\n",
    "                                    force=0)\n",
    "\n",
    "        self.steeringLinks = [0]\n",
    "        self.maxForce = 20\n",
    "        self.nMotors = 2\n",
    "        self.motorizedwheels = [1, 2]\n",
    "        self.speedMultiplier = 10.\n",
    "        self.steeringMultiplier = 0.5\n",
    "        \n",
    "        self.speed = 0 \n",
    "        self.steer = 0\n",
    "\n",
    "        velocity = p.getBaseVelocity(self.pid)\n",
    "        img = self.getImage()\n",
    "        observation = {'sensor': list(self.getObservation()) + list(velocity[0])+list(velocity[1]),\n",
    "                       'image': img}\n",
    "        \n",
    "\n",
    "        p.configureDebugVisualizer(p.COV_ENABLE_RENDERING,1)\n",
    "        \n",
    "        return observation\n",
    "        \n",
    "    \n",
    "    def getImage(self):\n",
    "        img = env.render()\n",
    "        #img = cv2.resize(img, (64,64), interpolation = cv2.INTER_NEAREST )\n",
    "        #img = img[:,:,2]\n",
    "        #img =img.reshape((64,64))\n",
    "        #img = np.asarray(img, dtype='float32')\n",
    "        #img /= 255.0\n",
    "        return img\n",
    "        \n",
    "    def getObservationDimension(self):\n",
    "        return len(self.getObservation())\n",
    "    \n",
    "    def getObservation(self):\n",
    "        observation = []\n",
    "        pos, orn = p.getBasePositionAndOrientation(self.pid)\n",
    "\n",
    "        #observation.extend(list(pos))\n",
    "        observation.extend(list(orn))\n",
    "        return observation\n",
    "        \n",
    "    def render(self, mode='rgb_array'):\n",
    "        pos, orn = p.getBasePositionAndOrientation(self.pid)\n",
    "      \n",
    "        view_matrix = p.computeViewMatrixFromYawPitchRoll(cameraTargetPosition=[pos[0]+11.3,pos[1],pos[2]],\n",
    "                                                            distance=10,\n",
    "                                                            yaw=-90 ,\n",
    "                                                            pitch=0,\n",
    "                                                            roll=0,\n",
    "                                                            upAxisIndex=2)\n",
    "        proj_matrix = p.computeProjectionMatrixFOV(fov=60,\n",
    "                                                     aspect=float(960) /720,\n",
    "                                                     nearVal=0.1,\n",
    "                                                     farVal=100.0)\n",
    "        (_, _, px, _, s) = p.getCameraImage(width=64,\n",
    "                                              height=64,\n",
    "                                              viewMatrix=view_matrix,\n",
    "                                              projectionMatrix=proj_matrix,\n",
    "                                              renderer=p.ER_BULLET_HARDWARE_OPENGL)\n",
    "\n",
    "        #rgb_array = np.array(px, dtype=np.uint8)\n",
    "        #rgb_array = np.reshape(rgb_array, (64,64, 4))\n",
    "\n",
    "        #rgb_array = rgb_array[:, :, :3]\n",
    "        \n",
    "        #return rgb_array\n",
    "        for i in range(64):\n",
    "            for j in range(64):\n",
    "                if s[i,j] <= 0 :\n",
    "                    s[i,j] = 0\n",
    "                else:\n",
    "                    s[i,j] = 1\n",
    "        image = s \n",
    "        image = np.zeros((64,64))\n",
    "        for i in range(64):\n",
    "            for j in range(64):\n",
    "                if s[i,j] > 0 : image[i,j]=1\n",
    "\n",
    "        blobs_doh = blob_doh(image, max_sigma=30, threshold=.01)\n",
    "\n",
    "\n",
    "\n",
    "        for blob in blobs_doh:\n",
    "            print('blob',blob)\n",
    "          \n",
    "        return s\n",
    "    \n",
    "    def close(self):\n",
    "        p.disconnect()"
   ]
  },
  {
   "cell_type": "code",
   "execution_count": 5,
   "metadata": {
    "scrolled": true
   },
   "outputs": [
    {
     "name": "stderr",
     "output_type": "stream",
     "text": [
      "C:\\Users\\SERVER\\Anaconda3\\lib\\site-packages\\gym\\logger.py:30: UserWarning: \u001b[33mWARN: Box bound precision lowered by casting to float32\u001b[0m\n",
      "  warnings.warn(colorize('%s: %s'%('WARN', msg % args), 'yellow'))\n"
     ]
    }
   ],
   "source": [
    "env = BikeEnv()\n",
    "np.random.seed(123)\n",
    "env.seed(123)"
   ]
  },
  {
   "cell_type": "code",
   "execution_count": 6,
   "metadata": {},
   "outputs": [],
   "source": [
    "nb_actions = env.action_space.n"
   ]
  },
  {
   "cell_type": "code",
   "execution_count": 7,
   "metadata": {},
   "outputs": [],
   "source": [
    "def create_mlp():\n",
    "    inputs = Input(shape=env.observation_space['sensor'].shape)\n",
    "    x = Dense(16, activation='relu')(inputs)\n",
    "    x = Dense(16, activation='relu')(x)\n",
    "    x = Dense(16, activation='relu')(x)\n",
    "    x = Dense(8,  activation='relu')(x)\n",
    "    #x = Dense(nb_actions, activation='linear')(x)\n",
    "    model = Model(inputs, x)\n",
    "    return model"
   ]
  },
  {
   "cell_type": "code",
   "execution_count": 8,
   "metadata": {},
   "outputs": [],
   "source": [
    "init = initializers.RandomNormal(stddev=0.01)"
   ]
  },
  {
   "cell_type": "code",
   "execution_count": 9,
   "metadata": {},
   "outputs": [],
   "source": [
    "def create_cnn():\n",
    "    inputShape = (64, 64,1)\n",
    "    inputs = Input(shape=inputShape,name='image')\n",
    "    x = Conv2D(32, (8, 78), padding=\"same\", strides=(4,4), kernel_initializer=init)(inputs)\n",
    "    x = Activation(\"relu\")(x)\n",
    "\n",
    "    \n",
    "    x = Conv2D(64, (4, 4), padding=\"same\" ,strides=(2,2), kernel_initializer=init)(x)\n",
    "    x = Activation(\"relu\")(x)\n",
    "\n",
    "    x = Conv2D(64, (3, 3), padding=\"same\" ,strides=(1,1), kernel_initializer=init)(x)\n",
    "    x = Activation(\"relu\")(x)\n",
    "  \n",
    "    x = Flatten()(x)\n",
    "    x = Dense(512,  kernel_initializer=init)(x)\n",
    "    x = Activation(\"relu\")(x)\n",
    "   \n",
    "    #x = Dense(6)(x)\n",
    "    #x = Activation(\"linear\")(x)\n",
    " \n",
    "    model = Model(inputs, x)\n",
    "    return model"
   ]
  },
  {
   "cell_type": "code",
   "execution_count": 10,
   "metadata": {},
   "outputs": [],
   "source": [
    "mlp = create_mlp()\n",
    "cnn = create_cnn()\n",
    "combinedInput = concatenate([mlp.output, cnn.output])\n",
    "x = Dense(8, activation=\"relu\")(combinedInput)\n",
    "x = Dropout(0.2)(x)\n",
    "x = Dense(nb_actions, activation=\"relu\")(x)\n",
    "model = Model(inputs=[mlp.input, cnn.input], outputs=x)"
   ]
  },
  {
   "cell_type": "code",
   "execution_count": 11,
   "metadata": {},
   "outputs": [],
   "source": [
    "class CustomCalback(Callback ):\n",
    "    def on_action_begin(self, action, logs={}):\n",
    "        p.setRealTimeSimulation(1)\n",
    "\n",
    "    def on_action_end(self, action, logs={}):\n",
    "        p.setRealTimeSimulation(0)"
   ]
  },
  {
   "cell_type": "code",
   "execution_count": 12,
   "metadata": {},
   "outputs": [],
   "source": [
    "class CustomProcessor(Processor):\n",
    "\n",
    "    def process_state_batch(self, batch):\n",
    "        batch = np.squeeze(batch, axis=1)\n",
    "        b_shape = batch.shape[0]\n",
    "        sensor = [batch[i][0] for i in range(b_shape)]\n",
    "        images = [batch[i][1] for i in range(b_shape)]\n",
    "        return [sensor,images]\n",
    "\n",
    "        return batch\n",
    "    def process_observation(self, observation):\n",
    "        \n",
    "        observation = observation['sensor'],observation['image'].reshape((64,64,1))\n",
    "        return observation"
   ]
  },
  {
   "cell_type": "code",
   "execution_count": 13,
   "metadata": {},
   "outputs": [],
   "source": [
    "memory = SequentialMemory(limit=50000, window_length=1)\n",
    "policy = BoltzmannQPolicy()\n",
    "dqn = DQNAgent(model=model, nb_actions=nb_actions, memory=memory, nb_steps_warmup=10,\n",
    "               target_model_update=1e-2, policy=policy)\n",
    "dqn.processor = CustomProcessor()\n",
    "dqn.compile(Adam(lr=1e-6), metrics=['mae'])"
   ]
  },
  {
   "cell_type": "code",
   "execution_count": 14,
   "metadata": {
    "scrolled": true
   },
   "outputs": [
    {
     "name": "stdout",
     "output_type": "stream",
     "text": [
      "Training for 250000 steps ...\n",
      "blob [33.         35.          4.22222222]\n",
      "Interval 1 (0 steps performed)\n",
      "WARNING:tensorflow:From C:\\Users\\SERVER\\Anaconda3\\lib\\site-packages\\keras\\backend\\tensorflow_backend.py:422: The name tf.global_variables is deprecated. Please use tf.compat.v1.global_variables instead.\n",
      "\n",
      "blob [33.         36.          4.22222222]\n",
      "    1/10000 [..............................] - ETA: 2:17:47 - reward: 0.0026blob [31.         38.          4.22222222]\n",
      "    2/10000 [..............................] - ETA: 1:56:58 - reward: -0.0097blob [30.         39.          4.22222222]\n",
      "    3/10000 [..............................] - ETA: 1:50:02 - reward: -33.3398"
     ]
    },
    {
     "name": "stderr",
     "output_type": "stream",
     "text": [
      "C:\\Users\\SERVER\\Anaconda3\\lib\\site-packages\\skimage\\feature\\blob.py:125: RuntimeWarning: invalid value encountered in double_scalars\n",
      "  r1 = blob1[-1] / blob2[-1]\n",
      "C:\\Users\\SERVER\\Anaconda3\\lib\\site-packages\\skimage\\feature\\blob.py:126: RuntimeWarning: divide by zero encountered in true_divide\n",
      "  pos1 = blob1[:ndim] / (max_sigma * root_ndim)\n",
      "C:\\Users\\SERVER\\Anaconda3\\lib\\site-packages\\skimage\\feature\\blob.py:127: RuntimeWarning: divide by zero encountered in true_divide\n",
      "  pos2 = blob2[:ndim] / (max_sigma * root_ndim)\n",
      "C:\\Users\\SERVER\\Anaconda3\\lib\\site-packages\\skimage\\feature\\blob.py:129: RuntimeWarning: invalid value encountered in subtract\n",
      "  d = np.sqrt(np.sum((pos2 - pos1)**2))\n"
     ]
    },
    {
     "name": "stdout",
     "output_type": "stream",
     "text": [
      "blob [36.         48.          7.44444444]\n",
      "blob [33.         27.          4.22222222]\n",
      "blob [37.         52.          7.44444444]\n",
      "blob [34.         41.          4.22222222]\n",
      "blob [33.         28.          4.22222222]\n",
      "    4/10000 [..............................] - ETA: 2:14:29 - reward: -24.8582blob [33.         28.          4.22222222]\n",
      "blob [35.         56.         13.88888889]\n",
      "    5/10000 [..............................] - ETA: 2:06:49 - reward: -19.6764blob [ 0.         53.         17.11111111]\n",
      "blob [ 0. 14.  1.]\n",
      "blob [21.         40.         10.66666667]\n",
      "blob [ 2. 16.  1.]\n",
      "blob [ 4. 20.  1.]\n",
      "blob [ 5. 23.  1.]\n",
      "blob [ 6. 25.  1.]\n",
      "blob [ 7. 27.  1.]\n",
      "blob [ 8. 29.  1.]\n",
      "blob [ 9. 30.  1.]\n",
      "blob [ 3. 19.  1.]\n",
      "    6/10000 [..............................] - ETA: 2:03:51 - reward: -33.0636blob [36.         31.         10.66666667]\n",
      "blob [38.         31.         10.66666667]\n",
      "    7/10000 [..............................] - ETA: 2:19:11 - reward: -28.2592"
     ]
    },
    {
     "name": "stderr",
     "output_type": "stream",
     "text": [
      "C:\\Users\\SERVER\\Anaconda3\\lib\\site-packages\\skimage\\feature\\blob.py:127: RuntimeWarning: invalid value encountered in true_divide\n",
      "  pos2 = blob2[:ndim] / (max_sigma * root_ndim)\n",
      "C:\\Users\\SERVER\\Anaconda3\\lib\\site-packages\\skimage\\feature\\blob.py:126: RuntimeWarning: invalid value encountered in true_divide\n",
      "  pos1 = blob1[:ndim] / (max_sigma * root_ndim)\n"
     ]
    },
    {
     "name": "stdout",
     "output_type": "stream",
     "text": [
      "blob [46.         42.         23.55555556]\n",
      "blob [ 3.          4.         23.55555556]\n",
      "    8/10000 [..............................] - ETA: 2:37:49 - reward: -24.4983blob [27.         51.         13.88888889]\n",
      "    9/10000 [..............................] - ETA: 2:31:14 - reward: -32.8874blob [38.         53.         10.66666667]\n",
      "blob [36.         26.         13.88888889]\n",
      "blob [28.         43.          7.44444444]\n",
      "blob [47.         40.         10.66666667]\n",
      "blob [41.         39.         20.33333333]\n",
      "   10/10000 [..............................] - ETA: 2:44:24 - reward: -29.6595blob [31.         38.         13.88888889]\n",
      "   11/10000 [..............................] - ETA: 2:38:11 - reward: -27.1467blob [30.         41.         10.66666667]\n"
     ]
    },
    {
     "name": "stderr",
     "output_type": "stream",
     "text": [
      "C:\\Users\\SERVER\\Anaconda3\\lib\\site-packages\\rl\\memory.py:39: UserWarning: Not enough entries to sample without replacement. Consider increasing your warm-up phase to avoid oversampling!\n",
      "  warnings.warn('Not enough entries to sample without replacement. Consider increasing your warm-up phase to avoid oversampling!')\n"
     ]
    },
    {
     "name": "stdout",
     "output_type": "stream",
     "text": [
      "\b\b\b\b\b\b\b\b\b\b\b\b\b\b\b\b\b\b\b\b\b\b\b\b\b\b\b\b\b\b\b\b\b\b\b\b\b\b\b\b\b\b\b\b\b\b\b\b\b\b\b\b\b\b\b\b\b\b\b\b\b\b\b\b\b\b\b\b\b\b\b\b\b\b\b\b\b\b\r",
      "   12/10000 [..............................] - ETA: 3:10:26 - reward: -33.2178"
     ]
    },
    {
     "name": "stderr",
     "output_type": "stream",
     "text": [
      "C:\\Users\\SERVER\\Anaconda3\\lib\\site-packages\\rl\\memory.py:39: UserWarning: Not enough entries to sample without replacement. Consider increasing your warm-up phase to avoid oversampling!\n",
      "  warnings.warn('Not enough entries to sample without replacement. Consider increasing your warm-up phase to avoid oversampling!')\n",
      "C:\\Users\\SERVER\\Anaconda3\\lib\\site-packages\\skimage\\feature\\blob.py:125: RuntimeWarning: invalid value encountered in double_scalars\n",
      "  r1 = blob1[-1] / blob2[-1]\n",
      "C:\\Users\\SERVER\\Anaconda3\\lib\\site-packages\\skimage\\feature\\blob.py:126: RuntimeWarning: divide by zero encountered in true_divide\n",
      "  pos1 = blob1[:ndim] / (max_sigma * root_ndim)\n",
      "C:\\Users\\SERVER\\Anaconda3\\lib\\site-packages\\skimage\\feature\\blob.py:127: RuntimeWarning: divide by zero encountered in true_divide\n",
      "  pos2 = blob2[:ndim] / (max_sigma * root_ndim)\n",
      "C:\\Users\\SERVER\\Anaconda3\\lib\\site-packages\\skimage\\feature\\blob.py:129: RuntimeWarning: invalid value encountered in subtract\n",
      "  d = np.sqrt(np.sum((pos2 - pos1)**2))\n"
     ]
    },
    {
     "name": "stdout",
     "output_type": "stream",
     "text": [
      "blob [37.         21.          7.44444444]\n",
      "blob [33.         35.          4.22222222]\n",
      "blob [37.         22.          7.44444444]\n",
      "blob [33.         35.          4.22222222]\n",
      "   13/10000 [..............................] - ETA: 3:21:44 - reward: -30.6629blob [36.         25.          7.44444444]\n",
      "blob [33.         36.          4.22222222]\n",
      "   14/10000 [..............................] - ETA: 3:19:44 - reward: -28.4727blob [28.         31.          7.44444444]\n",
      "   15/10000 [..............................] - ETA: 3:17:18 - reward: -33.2412blob [34.         33.          7.44444444]\n",
      "blob [34.         33.          7.44444444]\n",
      "   16/10000 [..............................] - ETA: 3:24:54 - reward: -31.2004blob [33.         37.          4.22222222]\n",
      "blob [32. 27.  1.]\n",
      "blob [31. 30.  1.]\n",
      "   17/10000 [..............................] - ETA: 3:21:32 - reward: -29.4729blob [30.         37.          4.22222222]\n",
      "blob [30. 29.  1.]\n",
      "blob [28. 30.  1.]\n",
      "   18/10000 [..............................] - ETA: 3:18:32 - reward: -33.3910blob [38.         29.         13.88888889]\n"
     ]
    },
    {
     "name": "stderr",
     "output_type": "stream",
     "text": [
      "C:\\Users\\SERVER\\Anaconda3\\lib\\site-packages\\skimage\\feature\\blob.py:127: RuntimeWarning: invalid value encountered in true_divide\n",
      "  pos2 = blob2[:ndim] / (max_sigma * root_ndim)\n"
     ]
    },
    {
     "name": "stdout",
     "output_type": "stream",
     "text": [
      "blob [40.         24.         20.33333333]\n",
      "   19/10000 [..............................] - ETA: 3:31:42 - reward: -31.6339blob [31.         40.         13.88888889]\n",
      "   20/10000 [..............................] - ETA: 3:30:18 - reward: -30.0805"
     ]
    },
    {
     "name": "stderr",
     "output_type": "stream",
     "text": [
      "C:\\Users\\SERVER\\Anaconda3\\lib\\site-packages\\skimage\\feature\\blob.py:126: RuntimeWarning: invalid value encountered in true_divide\n",
      "  pos1 = blob1[:ndim] / (max_sigma * root_ndim)\n"
     ]
    },
    {
     "name": "stdout",
     "output_type": "stream",
     "text": [
      "blob [29.         37.         10.66666667]\n",
      "blob [20.          0.         23.55555556]\n",
      "   21/10000 [..............................] - ETA: 3:29:54 - reward: -33.4100blob [33.         36.          4.22222222]\n",
      "blob [33.         27.          4.22222222]\n",
      "blob [33.         36.          4.22222222]\n",
      "blob [33.         27.          4.22222222]\n",
      "   22/10000 [..............................] - ETA: 3:37:41 - reward: -31.8915blob [33.         38.          4.22222222]\n",
      "blob [33.         28.          4.22222222]\n",
      "   23/10000 [..............................] - ETA: 3:34:51 - reward: -30.5047blob [29.         42.          4.22222222]\n",
      "blob [30.         31.          4.22222222]\n",
      "blob [25.         36.          4.22222222]\n",
      "   24/10000 [..............................] - ETA: 3:32:15 - reward: -33.4003blob [36.         39.          7.44444444]\n",
      "blob [41.         30.          7.44444444]\n",
      "blob [32. 22.  1.]\n",
      "blob [31. 23.  1.]\n",
      "blob [36.         39.          7.44444444]\n",
      "blob [41.         31.          7.44444444]\n",
      "blob [32. 22.  1.]\n",
      "   25/10000 [..............................] - ETA: 3:36:17 - reward: -32.0645blob [37.         43.          7.44444444]\n",
      "blob [35. 22.  1.]\n",
      "blob [41.         32.          7.44444444]\n",
      "blob [32. 23.  1.]\n",
      "blob [31. 28.  1.]\n",
      "   26/10000 [..............................] - ETA: 3:35:14 - reward: -30.8101blob [38.         47.         17.11111111]\n",
      "   27/10000 [..............................] - ETA: 3:36:22 - reward: -29.5899blob [ 0. 48. 30.]\n",
      "blob [40.         51.         23.55555556]\n",
      "   28/10000 [..............................] - ETA: 3:35:22 - reward: -32.1045blob [37.         35.         17.11111111]\n",
      "blob [39.         41.         17.11111111]\n",
      "blob [46.  0. 30.]\n",
      "   29/10000 [..............................] - ETA: 3:44:49 - reward: -30.9773blob [29.         42.          4.22222222]\n",
      "blob [30.         30.          4.22222222]\n",
      "   30/10000 [..............................] - ETA: 3:43:00 - reward: -33.2780blob [38.         54.          7.44444444]\n",
      "blob [38.         27.         10.66666667]\n",
      "blob [30.         48.          4.22222222]\n",
      "blob [48.         42.         10.66666667]\n",
      "blob [40.         54.         17.11111111]\n",
      "blob [47.  0. 30.]\n",
      "blob [ 4.          4.         20.33333333]\n",
      "   31/10000 [..............................] - ETA: 4:05:59 - reward: -32.2123blob [29.         27.          4.22222222]\n",
      "blob [29.         48.          7.44444444]\n",
      "   32/10000 [..............................] - ETA: 4:03:56 - reward: -34.3307blob [35.         30.          4.22222222]\n",
      "blob [37.         53.         10.66666667]\n",
      "blob [35. 38.  1.]\n",
      "blob [29.         34.          4.22222222]\n",
      "blob [37.         54.         10.66666667]\n",
      "blob [41.         38.          7.44444444]\n",
      "   33/10000 [..............................] - ETA: 4:08:56 - reward: -33.2905blob [34.         33.          4.22222222]\n",
      "blob [36.         58.         10.66666667]\n",
      "blob [33.         43.          4.22222222]\n",
      "blob [32. 27.  1.]\n",
      "   34/10000 [..............................] - ETA: 4:06:23 - reward: -32.3120blob [29.         37.          4.22222222]\n",
      "blob [29.         58.         10.66666667]\n",
      "blob [31. 30.  1.]\n",
      "blob [28. 30.  1.]\n",
      "blob [29. 29.  1.]\n",
      "   35/10000 [..............................] - ETA: 4:04:48 - reward: -34.2459blob [34.         34.         10.66666667]\n",
      "blob [36.         35.         10.66666667]\n",
      "   36/10000 [..............................] - ETA: 4:09:08 - reward: -33.2948blob [33.         36.         10.66666667]\n",
      "   37/10000 [..............................] - ETA: 4:06:51 - reward: -32.3950blob [29.         40.          7.44444444]\n",
      "   38/10000 [..............................] - ETA: 4:05:30 - reward: -34.1741blob [37.         20.         10.66666667]\n",
      "blob [34.         35.          7.44444444]\n",
      "blob [34.         38.          4.22222222]\n",
      "blob [37.         21.         10.66666667]\n",
      "   39/10000 [..............................] - ETA: 4:09:29 - reward: -33.2980blob [34.         40.          4.22222222]\n",
      "blob [36.         24.         10.66666667]\n",
      "   40/10000 [..............................] - ETA: 4:07:26 - reward: -32.4661blob [28.         33.         10.66666667]\n",
      "   41/10000 [..............................] - ETA: 4:05:55 - reward: -34.1132blob [35.         25.          4.22222222]\n",
      "blob [34.         37.          4.22222222]\n",
      "blob [37.         30.          4.22222222]\n",
      "blob [35.         25.          4.22222222]\n",
      "blob [34.         37.          4.22222222]\n",
      "blob [31. 31.  1.]\n",
      "done, took 63.419 seconds\n"
     ]
    },
    {
     "data": {
      "text/plain": [
       "<keras.callbacks.callbacks.History at 0x18b01a58>"
      ]
     },
     "execution_count": 14,
     "metadata": {},
     "output_type": "execute_result"
    }
   ],
   "source": [
    "dqn.fit(env, nb_steps=250000, visualize=False, verbose=1,callbacks  = [CustomCalback()])"
   ]
  },
  {
   "cell_type": "code",
   "execution_count": 15,
   "metadata": {},
   "outputs": [],
   "source": [
    "#dqn.save_weights('d:\\\\RL-DQN-16')"
   ]
  },
  {
   "cell_type": "code",
   "execution_count": 16,
   "metadata": {},
   "outputs": [
    {
     "ename": "OSError",
     "evalue": "Unable to open file (unable to open file: name = 'd:\\RL-DQN-16', errno = 2, error message = 'No such file or directory', flags = 0, o_flags = 0)",
     "output_type": "error",
     "traceback": [
      "\u001b[1;31m---------------------------------------------------------------------------\u001b[0m",
      "\u001b[1;31mOSError\u001b[0m                                   Traceback (most recent call last)",
      "\u001b[1;32m<ipython-input-16-7c8de383dcf1>\u001b[0m in \u001b[0;36m<module>\u001b[1;34m()\u001b[0m\n\u001b[1;32m----> 1\u001b[1;33m \u001b[0mdqn\u001b[0m\u001b[1;33m.\u001b[0m\u001b[0mload_weights\u001b[0m\u001b[1;33m(\u001b[0m\u001b[1;34m'd:\\\\RL-DQN-16'\u001b[0m\u001b[1;33m)\u001b[0m\u001b[1;33m\u001b[0m\u001b[0m\n\u001b[0m",
      "\u001b[1;32m~\\Anaconda3\\lib\\site-packages\\rl\\agents\\dqn.py\u001b[0m in \u001b[0;36mload_weights\u001b[1;34m(self, filepath)\u001b[0m\n\u001b[0;32m    207\u001b[0m \u001b[1;33m\u001b[0m\u001b[0m\n\u001b[0;32m    208\u001b[0m     \u001b[1;32mdef\u001b[0m \u001b[0mload_weights\u001b[0m\u001b[1;33m(\u001b[0m\u001b[0mself\u001b[0m\u001b[1;33m,\u001b[0m \u001b[0mfilepath\u001b[0m\u001b[1;33m)\u001b[0m\u001b[1;33m:\u001b[0m\u001b[1;33m\u001b[0m\u001b[0m\n\u001b[1;32m--> 209\u001b[1;33m         \u001b[0mself\u001b[0m\u001b[1;33m.\u001b[0m\u001b[0mmodel\u001b[0m\u001b[1;33m.\u001b[0m\u001b[0mload_weights\u001b[0m\u001b[1;33m(\u001b[0m\u001b[0mfilepath\u001b[0m\u001b[1;33m)\u001b[0m\u001b[1;33m\u001b[0m\u001b[0m\n\u001b[0m\u001b[0;32m    210\u001b[0m         \u001b[0mself\u001b[0m\u001b[1;33m.\u001b[0m\u001b[0mupdate_target_model_hard\u001b[0m\u001b[1;33m(\u001b[0m\u001b[1;33m)\u001b[0m\u001b[1;33m\u001b[0m\u001b[0m\n\u001b[0;32m    211\u001b[0m \u001b[1;33m\u001b[0m\u001b[0m\n",
      "\u001b[1;32m~\\Anaconda3\\lib\\site-packages\\keras\\engine\\saving.py\u001b[0m in \u001b[0;36mload_wrapper\u001b[1;34m(*args, **kwargs)\u001b[0m\n\u001b[0;32m    490\u001b[0m                 \u001b[0mos\u001b[0m\u001b[1;33m.\u001b[0m\u001b[0mremove\u001b[0m\u001b[1;33m(\u001b[0m\u001b[0mtmp_filepath\u001b[0m\u001b[1;33m)\u001b[0m\u001b[1;33m\u001b[0m\u001b[0m\n\u001b[0;32m    491\u001b[0m             \u001b[1;32mreturn\u001b[0m \u001b[0mres\u001b[0m\u001b[1;33m\u001b[0m\u001b[0m\n\u001b[1;32m--> 492\u001b[1;33m         \u001b[1;32mreturn\u001b[0m \u001b[0mload_function\u001b[0m\u001b[1;33m(\u001b[0m\u001b[1;33m*\u001b[0m\u001b[0margs\u001b[0m\u001b[1;33m,\u001b[0m \u001b[1;33m**\u001b[0m\u001b[0mkwargs\u001b[0m\u001b[1;33m)\u001b[0m\u001b[1;33m\u001b[0m\u001b[0m\n\u001b[0m\u001b[0;32m    493\u001b[0m \u001b[1;33m\u001b[0m\u001b[0m\n\u001b[0;32m    494\u001b[0m     \u001b[1;32mreturn\u001b[0m \u001b[0mload_wrapper\u001b[0m\u001b[1;33m\u001b[0m\u001b[0m\n",
      "\u001b[1;32m~\\Anaconda3\\lib\\site-packages\\keras\\engine\\network.py\u001b[0m in \u001b[0;36mload_weights\u001b[1;34m(self, filepath, by_name, skip_mismatch, reshape)\u001b[0m\n\u001b[0;32m   1219\u001b[0m         \u001b[1;32mif\u001b[0m \u001b[0mh5py\u001b[0m \u001b[1;32mis\u001b[0m \u001b[1;32mNone\u001b[0m\u001b[1;33m:\u001b[0m\u001b[1;33m\u001b[0m\u001b[0m\n\u001b[0;32m   1220\u001b[0m             \u001b[1;32mraise\u001b[0m \u001b[0mImportError\u001b[0m\u001b[1;33m(\u001b[0m\u001b[1;34m'`load_weights` requires h5py.'\u001b[0m\u001b[1;33m)\u001b[0m\u001b[1;33m\u001b[0m\u001b[0m\n\u001b[1;32m-> 1221\u001b[1;33m         \u001b[1;32mwith\u001b[0m \u001b[0mh5py\u001b[0m\u001b[1;33m.\u001b[0m\u001b[0mFile\u001b[0m\u001b[1;33m(\u001b[0m\u001b[0mfilepath\u001b[0m\u001b[1;33m,\u001b[0m \u001b[0mmode\u001b[0m\u001b[1;33m=\u001b[0m\u001b[1;34m'r'\u001b[0m\u001b[1;33m)\u001b[0m \u001b[1;32mas\u001b[0m \u001b[0mf\u001b[0m\u001b[1;33m:\u001b[0m\u001b[1;33m\u001b[0m\u001b[0m\n\u001b[0m\u001b[0;32m   1222\u001b[0m             \u001b[1;32mif\u001b[0m \u001b[1;34m'layer_names'\u001b[0m \u001b[1;32mnot\u001b[0m \u001b[1;32min\u001b[0m \u001b[0mf\u001b[0m\u001b[1;33m.\u001b[0m\u001b[0mattrs\u001b[0m \u001b[1;32mand\u001b[0m \u001b[1;34m'model_weights'\u001b[0m \u001b[1;32min\u001b[0m \u001b[0mf\u001b[0m\u001b[1;33m:\u001b[0m\u001b[1;33m\u001b[0m\u001b[0m\n\u001b[0;32m   1223\u001b[0m                 \u001b[0mf\u001b[0m \u001b[1;33m=\u001b[0m \u001b[0mf\u001b[0m\u001b[1;33m[\u001b[0m\u001b[1;34m'model_weights'\u001b[0m\u001b[1;33m]\u001b[0m\u001b[1;33m\u001b[0m\u001b[0m\n",
      "\u001b[1;32m~\\Anaconda3\\lib\\site-packages\\h5py\\_hl\\files.py\u001b[0m in \u001b[0;36m__init__\u001b[1;34m(self, name, mode, driver, libver, userblock_size, swmr, **kwds)\u001b[0m\n\u001b[0;32m    267\u001b[0m             \u001b[1;32mwith\u001b[0m \u001b[0mphil\u001b[0m\u001b[1;33m:\u001b[0m\u001b[1;33m\u001b[0m\u001b[0m\n\u001b[0;32m    268\u001b[0m                 \u001b[0mfapl\u001b[0m \u001b[1;33m=\u001b[0m \u001b[0mmake_fapl\u001b[0m\u001b[1;33m(\u001b[0m\u001b[0mdriver\u001b[0m\u001b[1;33m,\u001b[0m \u001b[0mlibver\u001b[0m\u001b[1;33m,\u001b[0m \u001b[1;33m**\u001b[0m\u001b[0mkwds\u001b[0m\u001b[1;33m)\u001b[0m\u001b[1;33m\u001b[0m\u001b[0m\n\u001b[1;32m--> 269\u001b[1;33m                 \u001b[0mfid\u001b[0m \u001b[1;33m=\u001b[0m \u001b[0mmake_fid\u001b[0m\u001b[1;33m(\u001b[0m\u001b[0mname\u001b[0m\u001b[1;33m,\u001b[0m \u001b[0mmode\u001b[0m\u001b[1;33m,\u001b[0m \u001b[0muserblock_size\u001b[0m\u001b[1;33m,\u001b[0m \u001b[0mfapl\u001b[0m\u001b[1;33m,\u001b[0m \u001b[0mswmr\u001b[0m\u001b[1;33m=\u001b[0m\u001b[0mswmr\u001b[0m\u001b[1;33m)\u001b[0m\u001b[1;33m\u001b[0m\u001b[0m\n\u001b[0m\u001b[0;32m    270\u001b[0m \u001b[1;33m\u001b[0m\u001b[0m\n\u001b[0;32m    271\u001b[0m                 \u001b[1;32mif\u001b[0m \u001b[0mswmr_support\u001b[0m\u001b[1;33m:\u001b[0m\u001b[1;33m\u001b[0m\u001b[0m\n",
      "\u001b[1;32m~\\Anaconda3\\lib\\site-packages\\h5py\\_hl\\files.py\u001b[0m in \u001b[0;36mmake_fid\u001b[1;34m(name, mode, userblock_size, fapl, fcpl, swmr)\u001b[0m\n\u001b[0;32m     97\u001b[0m         \u001b[1;32mif\u001b[0m \u001b[0mswmr\u001b[0m \u001b[1;32mand\u001b[0m \u001b[0mswmr_support\u001b[0m\u001b[1;33m:\u001b[0m\u001b[1;33m\u001b[0m\u001b[0m\n\u001b[0;32m     98\u001b[0m             \u001b[0mflags\u001b[0m \u001b[1;33m|=\u001b[0m \u001b[0mh5f\u001b[0m\u001b[1;33m.\u001b[0m\u001b[0mACC_SWMR_READ\u001b[0m\u001b[1;33m\u001b[0m\u001b[0m\n\u001b[1;32m---> 99\u001b[1;33m         \u001b[0mfid\u001b[0m \u001b[1;33m=\u001b[0m \u001b[0mh5f\u001b[0m\u001b[1;33m.\u001b[0m\u001b[0mopen\u001b[0m\u001b[1;33m(\u001b[0m\u001b[0mname\u001b[0m\u001b[1;33m,\u001b[0m \u001b[0mflags\u001b[0m\u001b[1;33m,\u001b[0m \u001b[0mfapl\u001b[0m\u001b[1;33m=\u001b[0m\u001b[0mfapl\u001b[0m\u001b[1;33m)\u001b[0m\u001b[1;33m\u001b[0m\u001b[0m\n\u001b[0m\u001b[0;32m    100\u001b[0m     \u001b[1;32melif\u001b[0m \u001b[0mmode\u001b[0m \u001b[1;33m==\u001b[0m \u001b[1;34m'r+'\u001b[0m\u001b[1;33m:\u001b[0m\u001b[1;33m\u001b[0m\u001b[0m\n\u001b[0;32m    101\u001b[0m         \u001b[0mfid\u001b[0m \u001b[1;33m=\u001b[0m \u001b[0mh5f\u001b[0m\u001b[1;33m.\u001b[0m\u001b[0mopen\u001b[0m\u001b[1;33m(\u001b[0m\u001b[0mname\u001b[0m\u001b[1;33m,\u001b[0m \u001b[0mh5f\u001b[0m\u001b[1;33m.\u001b[0m\u001b[0mACC_RDWR\u001b[0m\u001b[1;33m,\u001b[0m \u001b[0mfapl\u001b[0m\u001b[1;33m=\u001b[0m\u001b[0mfapl\u001b[0m\u001b[1;33m)\u001b[0m\u001b[1;33m\u001b[0m\u001b[0m\n",
      "\u001b[1;32mh5py\\_objects.pyx\u001b[0m in \u001b[0;36mh5py._objects.with_phil.wrapper\u001b[1;34m()\u001b[0m\n",
      "\u001b[1;32mh5py\\_objects.pyx\u001b[0m in \u001b[0;36mh5py._objects.with_phil.wrapper\u001b[1;34m()\u001b[0m\n",
      "\u001b[1;32mh5py\\h5f.pyx\u001b[0m in \u001b[0;36mh5py.h5f.open\u001b[1;34m()\u001b[0m\n",
      "\u001b[1;31mOSError\u001b[0m: Unable to open file (unable to open file: name = 'd:\\RL-DQN-16', errno = 2, error message = 'No such file or directory', flags = 0, o_flags = 0)"
     ]
    }
   ],
   "source": [
    "dqn.load_weights('d:\\\\RL-DQN-16')"
   ]
  },
  {
   "cell_type": "code",
   "execution_count": null,
   "metadata": {},
   "outputs": [],
   "source": [
    "# get a ride\n",
    "all_obs = []\n",
    "env.reset()\n",
    "for i in range(100):\n",
    "    action = env.action_space.sample()\n",
    "    observation, reward, done, info = env.step(action)\n",
    "    all_obs.append(observation)\n",
    "    if done :\n",
    "        env.reset()"
   ]
  },
  {
   "cell_type": "code",
   "execution_count": null,
   "metadata": {},
   "outputs": [],
   "source": [
    "# visualize observations\n",
    "for i in range(100):\n",
    "    plt.imshow(all_obs[i]['image'])\n",
    "    plt.show()"
   ]
  },
  {
   "cell_type": "code",
   "execution_count": null,
   "metadata": {},
   "outputs": [],
   "source": [
    "# Visualize Filters\n",
    "for layer in model.layers:\n",
    "    # check for convolutional layer\n",
    "    if 'conv' not in layer.name:\n",
    "        continue\n",
    "    # get filter weights\n",
    "    filters, biases = layer.get_weights()\n",
    "    print(layer.name, filters.shape)"
   ]
  },
  {
   "cell_type": "code",
   "execution_count": null,
   "metadata": {},
   "outputs": [],
   "source": [
    "n_filters, ix = 6, 1\n",
    "for i in range(n_filters):\n",
    "    # get the filter\n",
    "    f = filters[:, :, :, i]\n",
    "    # plot each channel separately\n",
    "    for j in range(1):\n",
    "        # specify subplot and turn of axis\n",
    "        ax = plt.subplot(n_filters, 3, ix)\n",
    "        ax.set_xticks([])\n",
    "        ax.set_yticks([])\n",
    "        # plot filter channel in grayscale\n",
    "        plt.imshow(f[:, :, j], cmap='gray')\n",
    "        ix += 1\n",
    "# show the figure\n",
    "plt.show()"
   ]
  },
  {
   "cell_type": "code",
   "execution_count": null,
   "metadata": {},
   "outputs": [],
   "source": [
    "# get model oputput\n",
    "for i in range(100):\n",
    "    sensor = np.asarray(all_obs[i]['sensor']).reshape((1,10))\n",
    "    image = all_obs[i]['image'].reshape((1,64,64,1))\n",
    "    print(model.predict([sensor,image]))"
   ]
  },
  {
   "cell_type": "code",
   "execution_count": null,
   "metadata": {},
   "outputs": [],
   "source": [
    "# visualize feature map\n",
    "image = all_obs[66]['image']\n",
    "sensor = np.asarray(all_obs[3]['sensor']).reshape((1,10))\n",
    "plt.imshow(image , cmap='gray')"
   ]
  },
  {
   "cell_type": "code",
   "execution_count": null,
   "metadata": {},
   "outputs": [],
   "source": [
    "m = Model(inputs=model.inputs, outputs=model.layers[6].output)\n",
    "m.summary()\n",
    "image = image.reshape((1,64,64,1))\n",
    "feature_maps = m.predict([sensor , image])\n",
    "for i in range(32):\n",
    "    plt.imshow(feature_maps[0, :, :, i], cmap='gray')\n",
    "    plt.show()"
   ]
  }
 ],
 "metadata": {
  "kernelspec": {
   "display_name": "Python 3",
   "language": "python",
   "name": "python3"
  },
  "language_info": {
   "codemirror_mode": {
    "name": "ipython",
    "version": 3
   },
   "file_extension": ".py",
   "mimetype": "text/x-python",
   "name": "python",
   "nbconvert_exporter": "python",
   "pygments_lexer": "ipython3",
   "version": "3.6.5"
  }
 },
 "nbformat": 4,
 "nbformat_minor": 4
}
