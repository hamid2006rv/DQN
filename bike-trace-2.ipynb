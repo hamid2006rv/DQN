{
 "cells": [
  {
   "cell_type": "code",
   "execution_count": 2,
   "metadata": {},
   "outputs": [],
   "source": [
    "import os\n",
    "import copy\n",
    "import math\n",
    "import pybullet as p\n",
    "import pybullet_data\n",
    "import numpy as np"
   ]
  },
  {
   "cell_type": "code",
   "execution_count": 3,
   "metadata": {},
   "outputs": [],
   "source": [
    "class Bike:\n",
    "\n",
    "    def __init__(self, timeStep=0.01):\n",
    "        p.connect(p.GUI)\n",
    "        p.resetSimulation()\n",
    "        self.urdfRootPath = pybullet_data.getDataPath()\n",
    "        self.timeStep = timeStep\n",
    "\n",
    "\n",
    "    def reset(self):\n",
    "        planeUid = p.loadURDF(os.path.join(self.urdfRootPath,\"plane.urdf\"), basePosition=[0,0,0])\n",
    "        self.bike = p.loadURDF(os.path.join(self.urdfRootPath, \"bicycle/bike.urdf\"),\n",
    "                           [0, 0, 1],\n",
    "                           useFixedBase=False)\n",
    "        p.setGravity(0,0,-10)\n",
    "        for wheel in range(p.getNumJoints(self.bike)):\n",
    "            p.setJointMotorControl2(self.bike,\n",
    "                                    wheel,\n",
    "                                    p.VELOCITY_CONTROL,\n",
    "                                    targetVelocity=0,\n",
    "                                    force=0)\n",
    "\n",
    "        self.steeringLinks = [0]\n",
    "        self.maxForce = 20\n",
    "        self.nMotors = 2\n",
    "        self.motorizedwheels = [1, 2]\n",
    "        self.speedMultiplier = 20.\n",
    "        self.steeringMultiplier = 0.5\n",
    "        \n",
    "    def getActionDimension(self):\n",
    "        return self.nMotors\n",
    "    \n",
    "    def getObservationDimension(self):\n",
    "        return len(self.getObservation())\n",
    "    \n",
    "    def getObservation(self):\n",
    "        observation = []\n",
    "        pos, orn = p.getBasePositionAndOrientation(self.bike)\n",
    "\n",
    "        observation.extend(list(pos))\n",
    "        observation.extend(list(orn))\n",
    "        return observation\n",
    "    \n",
    "    def applyAction(self, motorCommands):\n",
    "        targetVelocity = motorCommands[0] * self.speedMultiplier\n",
    "        print(\"targetVelocity\")\n",
    "        print(targetVelocity)\n",
    "        steeringAngle = motorCommands[1] * self.steeringMultiplier\n",
    "        print(\"steeringAngle\")\n",
    "        print(steeringAngle)\n",
    "        print(\"maxForce\")\n",
    "        print(self.maxForce)\n",
    "\n",
    "        for motor in self.motorizedwheels:\n",
    "            p.setJointMotorControl2(self.bike,\n",
    "                                    motor,\n",
    "                                    p.VELOCITY_CONTROL,\n",
    "                                    targetVelocity=targetVelocity,\n",
    "                                    force=self.maxForce)\n",
    "        for steer in self.steeringLinks:\n",
    "            p.setJointMotorControl2(self.bike,\n",
    "                                    steer,\n",
    "                                    p.POSITION_CONTROL,\n",
    "                                    targetPosition=steeringAngle)"
   ]
  },
  {
   "cell_type": "code",
   "execution_count": 4,
   "metadata": {},
   "outputs": [
    {
     "name": "stdout",
     "output_type": "stream",
     "text": [
      "7\n"
     ]
    }
   ],
   "source": [
    "r = Bike()\n",
    "r.reset()\n",
    "p.setRealTimeSimulation(1)\n",
    "speed = 0\n",
    "steer = 0\n",
    "print(r.getObservationDimension())\n"
   ]
  },
  {
   "cell_type": "code",
   "execution_count": null,
   "metadata": {},
   "outputs": [],
   "source": [
    "while(1):\n",
    "    keys = p.getKeyboardEvents()\n",
    "    for k,v in keys.items():\n",
    "        if (k == p.B3G_UP_ARROW and (v&p.KEY_WAS_TRIGGERED)):\n",
    "            speed = speed + 1 \n",
    "            r.applyAction([speed,steer])\n",
    "        if (k == p.B3G_DOWN_ARROW and (v&p.KEY_WAS_TRIGGERED)):\n",
    "            speed = speed - 1 \n",
    "            r.applyAction([speed,steer])\n",
    "        if (k == p.B3G_LEFT_ARROW and (v&p.KEY_WAS_TRIGGERED)):\n",
    "            steer = steer - 1 \n",
    "            r.applyAction([speed,steer])\n",
    "        if (k == p.B3G_RIGHT_ARROW and (v&p.KEY_WAS_TRIGGERED)):\n",
    "            steer = steer + 1 \n",
    "            r.applyAction([speed,steer])"
   ]
  }
 ],
 "metadata": {
  "kernelspec": {
   "display_name": "Python 3",
   "language": "python",
   "name": "python3"
  },
  "language_info": {
   "codemirror_mode": {
    "name": "ipython",
    "version": 3
   },
   "file_extension": ".py",
   "mimetype": "text/x-python",
   "name": "python",
   "nbconvert_exporter": "python",
   "pygments_lexer": "ipython3",
   "version": "3.6.5"
  }
 },
 "nbformat": 4,
 "nbformat_minor": 2
}
