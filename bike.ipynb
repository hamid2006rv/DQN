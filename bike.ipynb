{
 "cells": [
  {
   "cell_type": "code",
   "execution_count": 1,
   "metadata": {},
   "outputs": [],
   "source": [
    "import os\n",
    "import pybullet as p\n",
    "import pybullet_data"
   ]
  },
  {
   "cell_type": "code",
   "execution_count": 2,
   "metadata": {},
   "outputs": [],
   "source": [
    "import numpy as np\n",
    "import matplotlib.pyplot as plt"
   ]
  },
  {
   "cell_type": "code",
   "execution_count": 3,
   "metadata": {},
   "outputs": [
    {
     "data": {
      "text/plain": [
       "0"
      ]
     },
     "execution_count": 3,
     "metadata": {},
     "output_type": "execute_result"
    }
   ],
   "source": [
    "p.connect(p.GUI)"
   ]
  },
  {
   "cell_type": "code",
   "execution_count": 84,
   "metadata": {},
   "outputs": [],
   "source": [
    "p.resetDebugVisualizerCamera(cameraDistance=10, cameraYaw=0, cameraPitch=-40, cameraTargetPosition=[0.55,-0.35,0.2])\n",
    "urdfRootPath = pybullet_data.getDataPath()\n",
    "planeUid = p.loadURDF(os.path.join(urdfRootPath,\"plane.urdf\"), basePosition=[0,0,0])\n",
    "pid = p.loadURDF(os.path.join(urdfRootPath, \"bicycle/bike.urdf\"),basePosition=[0,0,1])"
   ]
  },
  {
   "cell_type": "code",
   "execution_count": 85,
   "metadata": {},
   "outputs": [],
   "source": [
    "p.setGravity(0,0,-10)"
   ]
  },
  {
   "cell_type": "code",
   "execution_count": 11,
   "metadata": {},
   "outputs": [
    {
     "name": "stdout",
     "output_type": "stream",
     "text": [
      "base (or root link) of the body : position , orientation ((0.0, 0.0, 1.0), (0.706825181105366, 0.0, 0.0, 0.7073882691671998))\n"
     ]
    }
   ],
   "source": [
    "print(\"base (or root link) of the body : position , orientation\",p.getBasePositionAndOrientation(pid))"
   ]
  },
  {
   "cell_type": "code",
   "execution_count": 12,
   "metadata": {},
   "outputs": [
    {
     "name": "stdout",
     "output_type": "stream",
     "text": [
      "roll around X, pitch around Y, yaw around Z (1.57, -0.0, 0.0)\n"
     ]
    }
   ],
   "source": [
    "print(\"roll around X, pitch around Y, yaw around Z\", p.getEulerFromQuaternion(p.getBasePositionAndOrientation(pid)[1]))"
   ]
  },
  {
   "cell_type": "code",
   "execution_count": 13,
   "metadata": {},
   "outputs": [
    {
     "name": "stdout",
     "output_type": "stream",
     "text": [
      "joint info =  (1, b'handlebar_to_frontwheel', 0, 8, 7, 1, 0.0, 0.0, 0.0, -1.0, 100.0, 100.0, b'frontWheelLink', (0.0, 0.0007963267107333194, -0.9999996829318347), (0.07, 0.0, -0.69), (-0.706825181105366, 0.0, 0.0, 0.7073882691671998), 0)\n"
     ]
    }
   ],
   "source": [
    "print(\"joint info = \",p.getJointInfo(pid,1)) # JOINT_REVOLUTE"
   ]
  },
  {
   "cell_type": "code",
   "execution_count": 14,
   "metadata": {},
   "outputs": [
    {
     "name": "stdout",
     "output_type": "stream",
     "text": [
      "jointLowerLimit 0.0\n",
      "jointUpperLimit -1.0\n",
      "jointMaxForce 100.0\n",
      "jointMaxVelocity 100.0\n"
     ]
    }
   ],
   "source": [
    "i = 0\n",
    "print(\"jointLowerLimit\",p.getJointInfo(pid,i)[8])\n",
    "print(\"jointUpperLimit\",p.getJointInfo(pid,i)[9]) # Values ignored in case upper limit <lower limit.\n",
    "print(\"jointMaxForce\",p.getJointInfo(pid,i)[10]) #that this value is not automatically used. \n",
    "                                                 #You can use maxForce in 'setJointMotorControl2\n",
    "print(\"jointMaxVelocity\",p.getJointInfo(pid,i)[11]) #Note that the maximum velocity is not used in \n",
    "                                                    #actual motor control commands at the moment\n",
    "\n"
   ]
  },
  {
   "cell_type": "markdown",
   "metadata": {},
   "source": [
    "Important Note: by default, each revolute joint and prismatic joint is motorized using a velocity motor. You can disable those default motor by using a maximum force of 0. This will let you perform torque control. \n",
    "For example:\n",
    "\n",
    "maxForce = 0<br>\n",
    "p.setJointMotorControl2(objUid, jointIndex=0, p.VELOCITY_CONTROL, force=maxForce)<br>\n",
    "You can also use a small non-zero force to mimic joint friction.\n",
    "\n",
    "If you want a wheel to maintain a constant velocity, with a max force you can use:\n",
    "\n",
    "maxForce = 500 <br>\n",
    "p.setJointMotorControl2(objUid, \n",
    "jointIndex=0, \n",
    "p.VELOCITY_CONTROL,\n",
    "targetVelocity = targetVel,\n",
    "force = maxForce)"
   ]
  },
  {
   "cell_type": "code",
   "execution_count": 30,
   "metadata": {},
   "outputs": [],
   "source": [
    "#p.configureDebugVisualizer(p.COV_ENABLE_SINGLE_STEP_RENDERING)"
   ]
  },
  {
   "cell_type": "code",
   "execution_count": 13,
   "metadata": {},
   "outputs": [
    {
     "name": "stdout",
     "output_type": "stream",
     "text": [
      "(-0.004778756586274094, -0.0002579396522678024, (0.0, 0.0, 0.0, 0.0, 0.0, 0.0), 2.5204518202839656)\n",
      "(-0.005523831963548726, -0.0002596230571693552, (0.0, 0.0, 0.0, 0.0, 0.0, 0.0), 2.5320119957505467)\n",
      "(-0.006022524470726713, -0.0002607501430077805, (0.0, 0.0, 0.0, 0.0, 0.0, 0.0), 2.5397589530384583)\n",
      "(-0.0065856689048802534, -0.00026445020748024295, (0.0, 0.0, 0.0, 0.0, 0.0, 0.0), 2.5462863731739818)\n",
      "(-0.007490365465142331, -0.00026637135207748777, (0.0, 0.0, 0.0, 0.0, 0.0, 0.0), 2.5603665885630162)\n",
      "(-0.00811226582119978, -0.00026763845457692775, (0.0, 0.0, 0.0, 0.0, 0.0, 0.0), 2.5700355655729705)\n",
      "(-0.008940607205430919, -0.0002709052316199919, (0.0, 0.0, 0.0, 0.0, 0.0, 0.0), 2.583580311463622)\n",
      "(-0.009538089767904375, -0.00023974660277593148, (0.0, 0.0, 0.0, 0.0, 0.0, 0.0), 2.59313760403196)\n",
      "(-0.009926300040301981, -0.00025942143455441044, (0.0, 0.0, 0.0, 0.0, 0.0, 0.0), 2.599350793115956)\n"
     ]
    }
   ],
   "source": [
    "import keyboard\n",
    "up_pressed = False\n",
    "down_pressed = False\n",
    "left_pressed = False\n",
    "right_pressed = False\n",
    "\n",
    "joint = 0\n",
    "force = 10\n",
    "velocity = 10\n",
    "\n",
    "for _ in range(100000):\n",
    "\n",
    "    if keyboard.is_pressed('up'):\n",
    "        if not up_pressed:\n",
    "            p.setJointMotorControl2(pid, joint, p.VELOCITY_CONTROL, velocity, force=force)\n",
    "            force += 1\n",
    "            up_pressed = True\n",
    "            print(p.getJointState(pid,joint))\n",
    "    else:\n",
    "        up_pressed = False\n",
    "\n",
    "    if keyboard.is_pressed('down'):\n",
    "        if not down_pressed:\n",
    "            p.setJointMotorControl2(pid, joint, p.VELOCITY_CONTROL, velocity, force=force)\n",
    "            force -= 1\n",
    "            down_pressed = True\n",
    "            print(p.getJointState(pid,joint))\n",
    "    else:\n",
    "        down_pressed = False  \n",
    "\n",
    "    if keyboard.is_pressed('right'):\n",
    "        if not right_pressed:\n",
    "            p.setJointMotorControl2(pid, joint, p.VELOCITY_CONTROL, velocity, force=force)\n",
    "            velocity += 1\n",
    "            right_pressed = True\n",
    "            print(p.getJointState(pid,joint))\n",
    "    else:\n",
    "        right_pressed = False\n",
    "\n",
    "    if keyboard.is_pressed('left'):\n",
    "        if not left_pressed:\n",
    "            p.setJointMotorControl2(pid, joint, p.VELOCITY_CONTROL, velocity, force=force)\n",
    "            velocity -= 1\n",
    "            left_pressed = True\n",
    "            print(p.getJointState(pid,joint))\n",
    "    else:\n",
    "        left_pressed = False    \n",
    "\n",
    "    if keyboard.is_pressed('esc'):\n",
    "        break\n",
    "    p.stepSimulation()"
   ]
  },
  {
   "cell_type": "code",
   "execution_count": 543,
   "metadata": {},
   "outputs": [],
   "source": [
    "p.setJointMotorControl2(pid, 0, p.VELOCITY_CONTROL, targetVelocity=1, force=1)"
   ]
  },
  {
   "cell_type": "code",
   "execution_count": 581,
   "metadata": {},
   "outputs": [],
   "source": [
    "p.setJointMotorControl2(pid, 1, p.VELOCITY_CONTROL, targetVelocity=10, force=50)"
   ]
  },
  {
   "cell_type": "code",
   "execution_count": 582,
   "metadata": {},
   "outputs": [],
   "source": [
    "p.setJointMotorControl2(pid, 2, p.VELOCITY_CONTROL, targetVelocity=10, force=50)"
   ]
  },
  {
   "cell_type": "code",
   "execution_count": 87,
   "metadata": {},
   "outputs": [],
   "source": [
    "p.setRealTimeSimulation(0)\n",
    "p.setJointMotorControl2(pid, 2, p.VELOCITY_CONTROL, targetVelocity=5, force=3)\n",
    "p.setJointMotorControl2(pid, 1, p.VELOCITY_CONTROL, targetVelocity=5, force=3)"
   ]
  },
  {
   "cell_type": "code",
   "execution_count": 70,
   "metadata": {},
   "outputs": [],
   "source": [
    "for i in range(100000):\n",
    "    if(i%100):\n",
    "        p.setJointMotorControl2(pid, 2, p.VELOCITY_CONTROL, targetVelocity=5, force=0.1)\n",
    "        p.setJointMotorControl2(pid, 1, p.VELOCITY_CONTROL, targetVelocity=5, force=0.1)\n",
    "    #p.stepSimulation()    "
   ]
  },
  {
   "cell_type": "code",
   "execution_count": 83,
   "metadata": {},
   "outputs": [],
   "source": [
    "p.resetSimulation()"
   ]
  },
  {
   "cell_type": "code",
   "execution_count": 200,
   "metadata": {},
   "outputs": [],
   "source": [
    "p.disconnect()"
   ]
  },
  {
   "cell_type": "code",
   "execution_count": 18,
   "metadata": {},
   "outputs": [
    {
     "data": {
      "text/plain": [
       "(0,\n",
       " b'frame_to_handlebar',\n",
       " 0,\n",
       " 7,\n",
       " 6,\n",
       " 1,\n",
       " 0.0,\n",
       " 0.0,\n",
       " 0.0,\n",
       " -1.0,\n",
       " 100.0,\n",
       " 100.0,\n",
       " b'handlebarLink',\n",
       " (0.0, 0.0, 1.0),\n",
       " (0.7, 0.21999993024500364, 0.00017519187636131806),\n",
       " (0.700778193696528,\n",
       "  0.09233269719552732,\n",
       "  -0.0922591994549316,\n",
       "  0.7013364644619341),\n",
       " -1)"
      ]
     },
     "execution_count": 18,
     "metadata": {},
     "output_type": "execute_result"
    }
   ],
   "source": [
    "p.getJointInfo(pid,0)"
   ]
  },
  {
   "cell_type": "code",
   "execution_count": 19,
   "metadata": {},
   "outputs": [
    {
     "data": {
      "text/plain": [
       "(-0.0006703958528976332,\n",
       " -0.0002536106262619303,\n",
       " (0.0, 0.0, 0.0, 0.0, 0.0, 0.0),\n",
       " 2.4509049303278014)"
      ]
     },
     "execution_count": 19,
     "metadata": {},
     "output_type": "execute_result"
    }
   ],
   "source": [
    "p.getJointState(pid,0)"
   ]
  },
  {
   "cell_type": "code",
   "execution_count": 150,
   "metadata": {},
   "outputs": [],
   "source": []
  },
  {
   "cell_type": "code",
   "execution_count": 58,
   "metadata": {},
   "outputs": [
    {
     "data": {
      "text/plain": [
       "0"
      ]
     },
     "execution_count": 58,
     "metadata": {},
     "output_type": "execute_result"
    }
   ],
   "source": [
    "p.JOINT_REVOLUTE"
   ]
  },
  {
   "cell_type": "code",
   "execution_count": 560,
   "metadata": {},
   "outputs": [],
   "source": [
    "view_matrix = p.computeViewMatrixFromYawPitchRoll(cameraTargetPosition=[0.7,0,0.05],\n",
    "                                                            distance=.7,\n",
    "                                                            yaw=90,\n",
    "                                                            pitch=-70,\n",
    "                                                            roll=0,\n",
    "                                                            upAxisIndex=2)"
   ]
  },
  {
   "cell_type": "code",
   "execution_count": 561,
   "metadata": {},
   "outputs": [],
   "source": [
    "proj_matrix = p.computeProjectionMatrixFOV(fov=60,\n",
    "                                                     aspect=float(960) /720,\n",
    "                                                     nearVal=0.1,\n",
    "                                                     farVal=100.0)"
   ]
  },
  {
   "cell_type": "code",
   "execution_count": 563,
   "metadata": {},
   "outputs": [],
   "source": [
    "(_, _, px, _, _) = p.getCameraImage(width=960,\n",
    "                                              height=720,\n",
    "                                              viewMatrix=view_matrix,\n",
    "                                              projectionMatrix=proj_matrix,\n",
    "                                              renderer=p.ER_BULLET_HARDWARE_OPENGL)"
   ]
  },
  {
   "cell_type": "code",
   "execution_count": 566,
   "metadata": {},
   "outputs": [],
   "source": [
    "rgb_array = np.array(px, dtype=np.uint8)"
   ]
  },
  {
   "cell_type": "code",
   "execution_count": 567,
   "metadata": {},
   "outputs": [],
   "source": [
    "rgb_array = np.reshape(rgb_array, (720,960, 4))"
   ]
  },
  {
   "cell_type": "code",
   "execution_count": 568,
   "metadata": {},
   "outputs": [],
   "source": [
    "rgb_array = rgb_array[:, :, :3]"
   ]
  },
  {
   "cell_type": "code",
   "execution_count": 569,
   "metadata": {},
   "outputs": [
    {
     "data": {
      "text/plain": [
       "<matplotlib.image.AxesImage at 0x19c7f518>"
      ]
     },
     "execution_count": 569,
     "metadata": {},
     "output_type": "execute_result"
    },
    {
     "data": {
      "image/png": "[encoded data removed]",
      "text/plain": [
       "<Figure size 432x288 with 1 Axes>"
      ]
     },
     "metadata": {},
     "output_type": "display_data"
    }
   ],
   "source": [
    "plt.imshow(rgb_array)"
   ]
  },
  {
   "cell_type": "code",
   "execution_count": 605,
   "metadata": {},
   "outputs": [],
   "source": [
    "p.getLinkState(pid,4)"
   ]
  }
 ],
 "metadata": {
  "kernelspec": {
   "display_name": "Python 3",
   "language": "python",
   "name": "python3"
  },
  "language_info": {
   "codemirror_mode": {
    "name": "ipython",
    "version": 3
   },
   "file_extension": ".py",
   "mimetype": "text/x-python",
   "name": "python",
   "nbconvert_exporter": "python",
   "pygments_lexer": "ipython3",
   "version": "3.6.5"
  }
 },
 "nbformat": 4,
 "nbformat_minor": 2
}
